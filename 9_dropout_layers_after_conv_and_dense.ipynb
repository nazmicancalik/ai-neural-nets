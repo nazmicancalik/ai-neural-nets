{
  "nbformat": 4,
  "nbformat_minor": 0,
  "metadata": {
    "colab": {
      "name": "9_dropout_layers_after_conv_and_dense.ipynb",
      "version": "0.3.2",
      "provenance": [],
      "collapsed_sections": [],
      "include_colab_link": true
    },
    "kernelspec": {
      "name": "python3",
      "display_name": "Python 3"
    },
    "accelerator": "GPU"
  },
  "cells": [
    {
      "cell_type": "markdown",
      "metadata": {
        "id": "view-in-github",
        "colab_type": "text"
      },
      "source": [
        "<a href=\"https://colab.research.google.com/github/nazmicancalik/ai-neural-nets/blob/master/9_dropout_layers_after_conv_and_dense.ipynb\" target=\"_parent\"><img src=\"https://colab.research.google.com/assets/colab-badge.svg\" alt=\"Open In Colab\"/></a>"
      ]
    },
    {
      "metadata": {
        "id": "MhoQ0WE77laV",
        "colab_type": "text"
      },
      "cell_type": "markdown",
      "source": [
        "##### Copyright 2018 The TensorFlow Authors."
      ]
    },
    {
      "metadata": {
        "id": "_ckMIh7O7s6D",
        "colab_type": "code",
        "cellView": "form",
        "colab": {}
      },
      "cell_type": "code",
      "source": [
        "#@title Licensed under the Apache License, Version 2.0 (the \"License\");\n",
        "# you may not use this file except in compliance with the License.\n",
        "# You may obtain a copy of the License at\n",
        "#\n",
        "# https://www.apache.org/licenses/LICENSE-2.0\n",
        "#\n",
        "# Unless required by applicable law or agreed to in writing, software\n",
        "# distributed under the License is distributed on an \"AS IS\" BASIS,\n",
        "# WITHOUT WARRANTIES OR CONDITIONS OF ANY KIND, either express or implied.\n",
        "# See the License for the specific language governing permissions and\n",
        "# limitations under the License."
      ],
      "execution_count": 0,
      "outputs": []
    },
    {
      "metadata": {
        "id": "vasWnqRgy1H4",
        "colab_type": "code",
        "cellView": "form",
        "colab": {}
      },
      "cell_type": "code",
      "source": [
        "#@title MIT License\n",
        "#\n",
        "# Copyright (c) 2017 François Chollet\n",
        "#\n",
        "# Permission is hereby granted, free of charge, to any person obtaining a\n",
        "# copy of this software and associated documentation files (the \"Software\"),\n",
        "# to deal in the Software without restriction, including without limitation\n",
        "# the rights to use, copy, modify, merge, publish, distribute, sublicense,\n",
        "# and/or sell copies of the Software, and to permit persons to whom the\n",
        "# Software is furnished to do so, subject to the following conditions:\n",
        "#\n",
        "# The above copyright notice and this permission notice shall be included in\n",
        "# all copies or substantial portions of the Software.\n",
        "#\n",
        "# THE SOFTWARE IS PROVIDED \"AS IS\", WITHOUT WARRANTY OF ANY KIND, EXPRESS OR\n",
        "# IMPLIED, INCLUDING BUT NOT LIMITED TO THE WARRANTIES OF MERCHANTABILITY,\n",
        "# FITNESS FOR A PARTICULAR PURPOSE AND NONINFRINGEMENT. IN NO EVENT SHALL\n",
        "# THE AUTHORS OR COPYRIGHT HOLDERS BE LIABLE FOR ANY CLAIM, DAMAGES OR OTHER\n",
        "# LIABILITY, WHETHER IN AN ACTION OF CONTRACT, TORT OR OTHERWISE, ARISING\n",
        "# FROM, OUT OF OR IN CONNECTION WITH THE SOFTWARE OR THE USE OR OTHER\n",
        "# DEALINGS IN THE SOFTWARE."
      ],
      "execution_count": 0,
      "outputs": []
    },
    {
      "metadata": {
        "id": "jYysdyb-CaWM",
        "colab_type": "text"
      },
      "cell_type": "markdown",
      "source": [
        "# Train your first neural network: basic classification"
      ]
    },
    {
      "metadata": {
        "id": "S5Uhzt6vVIB2",
        "colab_type": "text"
      },
      "cell_type": "markdown",
      "source": [
        "<table class=\"tfo-notebook-buttons\" align=\"left\">\n",
        "  <td>\n",
        "    <a target=\"_blank\" href=\"https://www.tensorflow.org/tutorials/keras/basic_classification\"><img src=\"https://www.tensorflow.org/images/tf_logo_32px.png\" />View on TensorFlow.org</a>\n",
        "  </td>\n",
        "  <td>\n",
        "    <a target=\"_blank\" href=\"https://colab.research.google.com/github/tensorflow/docs/blob/master/site/en/tutorials/keras/basic_classification.ipynb\"><img src=\"https://www.tensorflow.org/images/colab_logo_32px.png\" />Run in Google Colab</a>\n",
        "  </td>\n",
        "  <td>\n",
        "    <a target=\"_blank\" href=\"https://github.com/tensorflow/docs/blob/master/site/en/tutorials/keras/basic_classification.ipynb\"><img src=\"https://www.tensorflow.org/images/GitHub-Mark-32px.png\" />View source on GitHub</a>\n",
        "  </td>\n",
        "</table>"
      ]
    },
    {
      "metadata": {
        "id": "FbVhjPpzn6BM",
        "colab_type": "text"
      },
      "cell_type": "markdown",
      "source": [
        "This guide trains a neural network model to classify images of clothing, like sneakers and shirts. It's okay if you don't understand all the details, this is a fast-paced overview of a complete TensorFlow program with the details explained as we go.\n",
        "\n",
        "This guide uses [tf.keras](https://www.tensorflow.org/guide/keras), a high-level API to build and train models in TensorFlow."
      ]
    },
    {
      "metadata": {
        "id": "dzLKpmZICaWN",
        "colab_type": "code",
        "outputId": "419a4b43-4c85-4296-853f-54d9d0a8d785",
        "colab": {
          "base_uri": "https://localhost:8080/",
          "height": 34
        }
      },
      "cell_type": "code",
      "source": [
        "# TensorFlow and tf.keras\n",
        "import tensorflow as tf\n",
        "from tensorflow import keras\n",
        "\n",
        "# Helper libraries\n",
        "import numpy as np\n",
        "from sklearn.model_selection import train_test_split\n",
        "import matplotlib.pyplot as plt\n",
        "\n",
        "print(tf.__version__)"
      ],
      "execution_count": 20,
      "outputs": [
        {
          "output_type": "stream",
          "text": [
            "1.12.0\n"
          ],
          "name": "stdout"
        }
      ]
    },
    {
      "metadata": {
        "id": "yR0EdgrLCaWR",
        "colab_type": "text"
      },
      "cell_type": "markdown",
      "source": [
        "## Import the Fashion MNIST dataset"
      ]
    },
    {
      "metadata": {
        "id": "DLdCchMdCaWQ",
        "colab_type": "text"
      },
      "cell_type": "markdown",
      "source": [
        "This guide uses the [Fashion MNIST](https://github.com/zalandoresearch/fashion-mnist) dataset which contains 70,000 grayscale images in 10 categories. The images show individual articles of clothing at low resolution (28 by 28 pixels), as seen here:\n",
        "\n",
        "<table>\n",
        "  <tr><td>\n",
        "    <img src=\"https://tensorflow.org/images/fashion-mnist-sprite.png\"\n",
        "         alt=\"Fashion MNIST sprite\"  width=\"600\">\n",
        "  </td></tr>\n",
        "  <tr><td align=\"center\">\n",
        "    <b>Figure 1.</b> <a href=\"https://github.com/zalandoresearch/fashion-mnist\">Fashion-MNIST samples</a> (by Zalando, MIT License).<br/>&nbsp;\n",
        "  </td></tr>\n",
        "</table>\n",
        "\n",
        "Fashion MNIST is intended as a drop-in replacement for the classic [MNIST](http://yann.lecun.com/exdb/mnist/) dataset—often used as the \"Hello, World\" of machine learning programs for computer vision. The MNIST dataset contains images of handwritten digits (0, 1, 2, etc) in an identical format to the articles of clothing we'll use here.\n",
        "\n",
        "This guide uses Fashion MNIST for variety, and because it's a slightly more challenging problem than regular MNIST. Both datasets are relatively small and are used to verify that an algorithm works as expected. They're good starting points to test and debug code. \n",
        "\n",
        "We will use 60,000 images to train the network and 10,000 images to evaluate how accurately the network learned to classify images. You can access the Fashion MNIST directly from TensorFlow, just import and load the data:"
      ]
    },
    {
      "metadata": {
        "id": "7MqDQO0KCaWS",
        "colab_type": "code",
        "colab": {}
      },
      "cell_type": "code",
      "source": [
        "fashion_mnist = keras.datasets.fashion_mnist\n",
        "\n",
        "(train_images, train_labels), (test_images, test_labels) = fashion_mnist.load_data()"
      ],
      "execution_count": 0,
      "outputs": []
    },
    {
      "metadata": {
        "id": "t9FDsUlxCaWW",
        "colab_type": "text"
      },
      "cell_type": "markdown",
      "source": [
        "Loading the dataset returns four NumPy arrays:\n",
        "\n",
        "* The `train_images` and `train_labels` arrays are the *training set*—the data the model uses to learn.\n",
        "* The model is tested against the *test set*, the `test_images`, and `test_labels` arrays.\n",
        "\n",
        "The images are 28x28 NumPy arrays, with pixel values ranging between 0 and 255. The *labels* are an array of integers, ranging from 0 to 9. These correspond to the *class* of clothing the image represents:\n",
        "\n",
        "<table>\n",
        "  <tr>\n",
        "    <th>Label</th>\n",
        "    <th>Class</th> \n",
        "  </tr>\n",
        "  <tr>\n",
        "    <td>0</td>\n",
        "    <td>T-shirt/top</td> \n",
        "  </tr>\n",
        "  <tr>\n",
        "    <td>1</td>\n",
        "    <td>Trouser</td> \n",
        "  </tr>\n",
        "    <tr>\n",
        "    <td>2</td>\n",
        "    <td>Pullover</td> \n",
        "  </tr>\n",
        "    <tr>\n",
        "    <td>3</td>\n",
        "    <td>Dress</td> \n",
        "  </tr>\n",
        "    <tr>\n",
        "    <td>4</td>\n",
        "    <td>Coat</td> \n",
        "  </tr>\n",
        "    <tr>\n",
        "    <td>5</td>\n",
        "    <td>Sandal</td> \n",
        "  </tr>\n",
        "    <tr>\n",
        "    <td>6</td>\n",
        "    <td>Shirt</td> \n",
        "  </tr>\n",
        "    <tr>\n",
        "    <td>7</td>\n",
        "    <td>Sneaker</td> \n",
        "  </tr>\n",
        "    <tr>\n",
        "    <td>8</td>\n",
        "    <td>Bag</td> \n",
        "  </tr>\n",
        "    <tr>\n",
        "    <td>9</td>\n",
        "    <td>Ankle boot</td> \n",
        "  </tr>\n",
        "</table>\n",
        "\n",
        "Each image is mapped to a single label. Since the *class names* are not included with the dataset, store them here to use later when plotting the images:"
      ]
    },
    {
      "metadata": {
        "id": "IjnLH5S2CaWx",
        "colab_type": "code",
        "colab": {}
      },
      "cell_type": "code",
      "source": [
        "class_names = ['T-shirt/top', 'Trouser', 'Pullover', 'Dress', 'Coat', \n",
        "               'Sandal', 'Shirt', 'Sneaker', 'Bag', 'Ankle boot']"
      ],
      "execution_count": 0,
      "outputs": []
    },
    {
      "metadata": {
        "id": "Brm0b_KACaWX",
        "colab_type": "text"
      },
      "cell_type": "markdown",
      "source": [
        "## Explore the data\n",
        "\n",
        "Let's explore the format of the dataset before training the model. The following shows there are 60,000 images in the training set, with each image represented as 28 x 28 pixels:"
      ]
    },
    {
      "metadata": {
        "id": "zW5k_xz1CaWX",
        "colab_type": "code",
        "outputId": "c2d21043-1a37-4577-f551-b630a85fc5a6",
        "colab": {
          "base_uri": "https://localhost:8080/",
          "height": 34
        }
      },
      "cell_type": "code",
      "source": [
        "train_images.shape"
      ],
      "execution_count": 23,
      "outputs": [
        {
          "output_type": "execute_result",
          "data": {
            "text/plain": [
              "(60000, 28, 28)"
            ]
          },
          "metadata": {
            "tags": []
          },
          "execution_count": 23
        }
      ]
    },
    {
      "metadata": {
        "id": "cIAcvQqMCaWf",
        "colab_type": "text"
      },
      "cell_type": "markdown",
      "source": [
        "Likewise, there are 60,000 labels in the training set:"
      ]
    },
    {
      "metadata": {
        "id": "TRFYHB2mCaWb",
        "colab_type": "code",
        "outputId": "70f1ee0d-be55-4207-e83b-71644bc81f80",
        "colab": {
          "base_uri": "https://localhost:8080/",
          "height": 34
        }
      },
      "cell_type": "code",
      "source": [
        "len(train_labels)"
      ],
      "execution_count": 24,
      "outputs": [
        {
          "output_type": "execute_result",
          "data": {
            "text/plain": [
              "60000"
            ]
          },
          "metadata": {
            "tags": []
          },
          "execution_count": 24
        }
      ]
    },
    {
      "metadata": {
        "id": "YSlYxFuRCaWk",
        "colab_type": "text"
      },
      "cell_type": "markdown",
      "source": [
        "Each label is an integer between 0 and 9:"
      ]
    },
    {
      "metadata": {
        "id": "XKnCTHz4CaWg",
        "colab_type": "code",
        "outputId": "87370766-83ef-4437-d69a-531a259e8614",
        "colab": {
          "base_uri": "https://localhost:8080/",
          "height": 34
        }
      },
      "cell_type": "code",
      "source": [
        "train_labels"
      ],
      "execution_count": 25,
      "outputs": [
        {
          "output_type": "execute_result",
          "data": {
            "text/plain": [
              "array([9, 0, 0, ..., 3, 0, 5], dtype=uint8)"
            ]
          },
          "metadata": {
            "tags": []
          },
          "execution_count": 25
        }
      ]
    },
    {
      "metadata": {
        "id": "TMPI88iZpO2T",
        "colab_type": "text"
      },
      "cell_type": "markdown",
      "source": [
        "There are 10,000 images in the test set. Again, each image is represented as 28 x 28 pixels:"
      ]
    },
    {
      "metadata": {
        "id": "2KFnYlcwCaWl",
        "colab_type": "code",
        "outputId": "8c5785c9-866f-4e3a-aeeb-56b921b04975",
        "colab": {
          "base_uri": "https://localhost:8080/",
          "height": 34
        }
      },
      "cell_type": "code",
      "source": [
        "test_images.shape"
      ],
      "execution_count": 26,
      "outputs": [
        {
          "output_type": "execute_result",
          "data": {
            "text/plain": [
              "(10000, 28, 28)"
            ]
          },
          "metadata": {
            "tags": []
          },
          "execution_count": 26
        }
      ]
    },
    {
      "metadata": {
        "id": "rd0A0Iu0CaWq",
        "colab_type": "text"
      },
      "cell_type": "markdown",
      "source": [
        "And the test set contains 10,000 images labels:"
      ]
    },
    {
      "metadata": {
        "id": "iJmPr5-ACaWn",
        "colab_type": "code",
        "outputId": "098283d1-5533-4cd1-c040-689c9a977efa",
        "colab": {
          "base_uri": "https://localhost:8080/",
          "height": 34
        }
      },
      "cell_type": "code",
      "source": [
        "len(test_labels)"
      ],
      "execution_count": 27,
      "outputs": [
        {
          "output_type": "execute_result",
          "data": {
            "text/plain": [
              "10000"
            ]
          },
          "metadata": {
            "tags": []
          },
          "execution_count": 27
        }
      ]
    },
    {
      "metadata": {
        "id": "ES6uQoLKCaWr",
        "colab_type": "text"
      },
      "cell_type": "markdown",
      "source": [
        "## Preprocess the data\n",
        "\n",
        "The data must be preprocessed before training the network. If you inspect the first image in the training set, you will see that the pixel values fall in the range of 0 to 255:"
      ]
    },
    {
      "metadata": {
        "id": "m4VEw8Ud9Quh",
        "colab_type": "code",
        "outputId": "77911952-ee09-48e5-c8ab-1385fa517c73",
        "colab": {
          "base_uri": "https://localhost:8080/",
          "height": 347
        }
      },
      "cell_type": "code",
      "source": [
        "plt.figure()\n",
        "plt.imshow(train_images[0])\n",
        "plt.colorbar()\n",
        "plt.grid(False)"
      ],
      "execution_count": 28,
      "outputs": [
        {
          "output_type": "display_data",
          "data": {
            "image/png": "[encoded data removed]",
            "text/plain": [
              "<matplotlib.figure.Figure at 0x7fa0ff793e48>"
            ]
          },
          "metadata": {
            "tags": []
          }
        }
      ]
    },
    {
      "metadata": {
        "id": "Wz7l27Lz9S1P",
        "colab_type": "text"
      },
      "cell_type": "markdown",
      "source": [
        "We scale these values to a range of 0 to 1 before feeding to the neural network model. For this, we divide the values by 255. It's important that the *training set* and the *testing set* are preprocessed in the same way:"
      ]
    },
    {
      "metadata": {
        "id": "bW5WzIPlCaWv",
        "colab_type": "code",
        "colab": {}
      },
      "cell_type": "code",
      "source": [
        "train_images = train_images / 255.0\n",
        "\n",
        "test_images = test_images / 255.0"
      ],
      "execution_count": 0,
      "outputs": []
    },
    {
      "metadata": {
        "id": "QwXXSG6qSg-a",
        "colab_type": "code",
        "colab": {}
      },
      "cell_type": "code",
      "source": [
        "train_mean = np.mean(train_images)\n",
        "\n",
        "train_images = train_images - train_mean\n",
        "test_images = test_images - train_mean"
      ],
      "execution_count": 0,
      "outputs": []
    },
    {
      "metadata": {
        "id": "Ee638AlnCaWz",
        "colab_type": "text"
      },
      "cell_type": "markdown",
      "source": [
        "Display the first 25 images from the *training set* and display the class name below each image. Verify that the data is in the correct format and we're ready to build and train the network."
      ]
    },
    {
      "metadata": {
        "id": "oZTImqg_CaW1",
        "colab_type": "code",
        "outputId": "d580d742-a295-47b7-d587-a8a0e3f6237f",
        "colab": {
          "base_uri": "https://localhost:8080/",
          "height": 589
        }
      },
      "cell_type": "code",
      "source": [
        "plt.figure(figsize=(10,10))\n",
        "for i in range(25):\n",
        "    plt.subplot(5,5,i+1)\n",
        "    plt.xticks([])\n",
        "    plt.yticks([])\n",
        "    plt.grid(False)\n",
        "    plt.imshow(train_images[i], cmap=plt.cm.binary)\n",
        "    plt.xlabel(class_names[train_labels[i]])"
      ],
      "execution_count": 31,
      "outputs": [
        {
          "output_type": "display_data",
          "data": {
            "image/png": "[encoded data removed]",
            "text/plain": [
              "<matplotlib.figure.Figure at 0x7fa0fc9a96a0>"
            ]
          },
          "metadata": {
            "tags": []
          }
        }
      ]
    },
    {
      "metadata": {
        "id": "59veuiEZCaW4",
        "colab_type": "text"
      },
      "cell_type": "markdown",
      "source": [
        "## Build the model\n",
        "\n",
        "Building the neural network requires configuring the layers of the model, then compiling the model."
      ]
    },
    {
      "metadata": {
        "id": "Gxg1XGm0eOBy",
        "colab_type": "text"
      },
      "cell_type": "markdown",
      "source": [
        "### Setup the layers\n",
        "\n",
        "The basic building block of a neural network is the *layer*. Layers extract representations from the data fed into them. And, hopefully, these representations are more meaningful for the problem at hand.\n",
        "\n",
        "Most of deep learning consists of chaining together simple layers. Most layers, like `tf.keras.layers.Dense`, have parameters that are learned during training."
      ]
    },
    {
      "metadata": {
        "id": "9sP4bNKg1EQf",
        "colab_type": "text"
      },
      "cell_type": "markdown",
      "source": [
        "Preprocessing"
      ]
    },
    {
      "metadata": {
        "id": "WgduJO7y1HRf",
        "colab_type": "code",
        "outputId": "a9ef3343-0b86-43be-c78d-ef22e107b5ef",
        "colab": {
          "base_uri": "https://localhost:8080/",
          "height": 51
        }
      },
      "cell_type": "code",
      "source": [
        "batch_size = 512\n",
        "\n",
        "train_images = train_images.reshape(train_images.shape[0], train_images.shape[1], train_images.shape[2], 1)\n",
        "# train_labels = train_labels.reshape(train_labels.shape[0], train_labels.shape[1], train_labels.shape[2], 1)\n",
        "\n",
        "test_images = test_images.reshape(test_images.shape[0], test_images.shape[1], test_images.shape[2], 1)\n",
        "\n",
        "train_images, train_images_validate, train_labels, train_labels_validate = train_test_split(\n",
        "    train_images, \n",
        "    train_labels, \n",
        "    test_size=0.3, \n",
        "    random_state=12345\n",
        ")\n",
        "\n",
        "print(train_images_validate.shape)\n",
        "print(train_labels_validate.shape)\n",
        "\n",
        "train_images_validate = train_images_validate.reshape(train_images_validate.shape[0], train_images_validate.shape[1], train_images_validate.shape[2], 1)"
      ],
      "execution_count": 32,
      "outputs": [
        {
          "output_type": "stream",
          "text": [
            "(18000, 28, 28, 1)\n",
            "(18000,)\n"
          ],
          "name": "stdout"
        }
      ]
    },
    {
      "metadata": {
        "id": "-EWTbDtg1KiJ",
        "colab_type": "code",
        "colab": {}
      },
      "cell_type": "code",
      "source": [
        "# Horizontal Flip is enabled.\n",
        "img_data_gen = keras.preprocessing.image.ImageDataGenerator(horizontal_flip=True)"
      ],
      "execution_count": 0,
      "outputs": []
    },
    {
      "metadata": {
        "id": "9ODch-OFCaW4",
        "colab_type": "code",
        "colab": {}
      },
      "cell_type": "code",
      "source": [
        "filters = 128\n",
        "conv_layer_dims = (3,3)\n",
        "input_shape =(28,28,1)\n",
        "\n",
        "model = keras.Sequential([\n",
        "    keras.layers.Conv2D(filters,conv_layer_dims,activation=tf.nn.relu, input_shape=input_shape),\n",
        "    keras.layers.Dropout(rate=0.1),\n",
        "    keras.layers.Flatten(input_shape=(28, 28)),\n",
        "    keras.layers.Dense(128, activation=tf.nn.relu,kernel_initializer='random_uniform'),\n",
        "    keras.layers.Dropout(rate=0.5),\n",
        "    keras.layers.Dense(10, activation=tf.nn.softmax)\n",
        "])"
      ],
      "execution_count": 0,
      "outputs": []
    },
    {
      "metadata": {
        "id": "gut8A_7rCaW6",
        "colab_type": "text"
      },
      "cell_type": "markdown",
      "source": [
        "The first layer in this network, `tf.keras.layers.Flatten`, transforms the format of the images from a 2d-array (of 28 by 28 pixels), to a 1d-array of 28 * 28 = 784 pixels. Think of this layer as unstacking rows of pixels in the image and lining them up. This layer has no parameters to learn; it only reformats the data.\n",
        "\n",
        "After the pixels are flattened, the network consists of a sequence of two `tf.keras.layers.Dense` layers. These are densely-connected, or fully-connected, neural layers. The first `Dense` layer has 128 nodes (or neurons). The second (and last) layer is a 10-node *softmax* layer—this returns an array of 10 probability scores that sum to 1. Each node contains a score that indicates the probability that the current image belongs to one of the 10 classes.\n",
        "\n",
        "### Compile the model\n",
        "\n",
        "Before the model is ready for training, it needs a few more settings. These are added during the model's *compile* step:\n",
        "\n",
        "* *Loss function* —This measures how accurate the model is during training. We want to minimize this function to \"steer\" the model in the right direction.\n",
        "* *Optimizer* —This is how the model is updated based on the data it sees and its loss function.\n",
        "* *Metrics* —Used to monitor the training and testing steps. The following example uses *accuracy*, the fraction of the images that are correctly classified."
      ]
    },
    {
      "metadata": {
        "id": "UX73XtrOQj3Z",
        "colab_type": "text"
      },
      "cell_type": "markdown",
      "source": [
        "**Change the optimizer**"
      ]
    },
    {
      "metadata": {
        "id": "Lhan11blCaW7",
        "colab_type": "code",
        "colab": {}
      },
      "cell_type": "code",
      "source": [
        "sgd = keras.optimizers.SGD(lr=0.01, momentum=0.7, decay=0.01, nesterov=True)\n",
        "\n",
        "model.compile(optimizer=sgd, \n",
        "              loss='sparse_categorical_crossentropy',\n",
        "              metrics=['accuracy'])"
      ],
      "execution_count": 0,
      "outputs": []
    },
    {
      "metadata": {
        "id": "qKF6uW-BCaW-",
        "colab_type": "text"
      },
      "cell_type": "markdown",
      "source": [
        "## Train the model\n",
        "\n",
        "Training the neural network model requires the following steps:\n",
        "\n",
        "1. Feed the training data to the model—in this example, the `train_images` and `train_labels` arrays.\n",
        "2. The model learns to associate images and labels.\n",
        "3. We ask the model to make predictions about a test set—in this example, the `test_images` array. We verify that the predictions match the labels from the `test_labels` array. \n",
        "\n",
        "To start training,  call the `model.fit` method—the model is \"fit\" to the training data:"
      ]
    },
    {
      "metadata": {
        "id": "xvwvpA64CaW_",
        "colab_type": "code",
        "cellView": "both",
        "outputId": "9f60cd78-9345-4102-ed93-d5a155c9eaf7",
        "colab": {
          "base_uri": "https://localhost:8080/",
          "height": 1734
        }
      },
      "cell_type": "code",
      "source": [
        "steps_per_epoch = (len(train_images)/batch_size)\n",
        "model.fit_generator(\n",
        "    generator = img_data_gen.flow(train_images,train_labels, batch_size),\n",
        "    callbacks=[keras.callbacks.EarlyStopping('val_acc', patience=3)],\n",
        "    validation_data = img_data_gen.flow(train_images_validate, train_labels_validate, batch_size=batch_size),\n",
        "    steps_per_epoch = steps_per_epoch, \n",
        "    epochs=50\n",
        ")"
      ],
      "execution_count": 36,
      "outputs": [
        {
          "output_type": "stream",
          "text": [
            "Epoch 1/50\n",
            "83/82 [==============================] - 13s 152ms/step - loss: 1.4107 - acc: 0.5095 - val_loss: 0.8435 - val_acc: 0.7212\n",
            "Epoch 2/50\n",
            "83/82 [==============================] - 9s 109ms/step - loss: 0.9469 - acc: 0.6676 - val_loss: 0.7280 - val_acc: 0.7476\n",
            "Epoch 3/50\n",
            "83/82 [==============================] - 9s 107ms/step - loss: 0.8623 - acc: 0.6994 - val_loss: 0.6774 - val_acc: 0.7619\n",
            "Epoch 4/50\n",
            "83/82 [==============================] - 9s 109ms/step - loss: 0.8171 - acc: 0.7111 - val_loss: 0.6521 - val_acc: 0.7696\n",
            "Epoch 5/50\n",
            "83/82 [==============================] - 9s 106ms/step - loss: 0.7953 - acc: 0.7203 - val_loss: 0.6364 - val_acc: 0.7763\n",
            "Epoch 6/50\n",
            "83/82 [==============================] - 9s 109ms/step - loss: 0.7698 - acc: 0.7279 - val_loss: 0.6239 - val_acc: 0.7788\n",
            "Epoch 7/50\n",
            "83/82 [==============================] - 9s 107ms/step - loss: 0.7584 - acc: 0.7333 - val_loss: 0.6113 - val_acc: 0.7833\n",
            "Epoch 8/50\n",
            "83/82 [==============================] - 9s 107ms/step - loss: 0.7446 - acc: 0.7370 - val_loss: 0.6019 - val_acc: 0.7850\n",
            "Epoch 9/50\n",
            "83/82 [==============================] - 9s 109ms/step - loss: 0.7358 - acc: 0.7389 - val_loss: 0.5984 - val_acc: 0.7861\n",
            "Epoch 10/50\n",
            "83/82 [==============================] - 9s 110ms/step - loss: 0.7259 - acc: 0.7415 - val_loss: 0.5883 - val_acc: 0.7916\n",
            "Epoch 11/50\n",
            "83/82 [==============================] - 9s 105ms/step - loss: 0.7170 - acc: 0.7457 - val_loss: 0.5848 - val_acc: 0.7919\n",
            "Epoch 12/50\n",
            "83/82 [==============================] - 9s 109ms/step - loss: 0.7149 - acc: 0.7468 - val_loss: 0.5780 - val_acc: 0.7953\n",
            "Epoch 13/50\n",
            "83/82 [==============================] - 9s 107ms/step - loss: 0.7081 - acc: 0.7484 - val_loss: 0.5752 - val_acc: 0.7946\n",
            "Epoch 14/50\n",
            "83/82 [==============================] - 9s 106ms/step - loss: 0.7053 - acc: 0.7502 - val_loss: 0.5715 - val_acc: 0.7956\n",
            "Epoch 15/50\n",
            "83/82 [==============================] - 9s 108ms/step - loss: 0.7025 - acc: 0.7515 - val_loss: 0.5672 - val_acc: 0.7976\n",
            "Epoch 16/50\n",
            "83/82 [==============================] - 9s 106ms/step - loss: 0.6968 - acc: 0.7531 - val_loss: 0.5648 - val_acc: 0.7984\n",
            "Epoch 17/50\n",
            "83/82 [==============================] - 9s 107ms/step - loss: 0.6954 - acc: 0.7538 - val_loss: 0.5632 - val_acc: 0.7989\n",
            "Epoch 18/50\n",
            "83/82 [==============================] - 9s 107ms/step - loss: 0.6891 - acc: 0.7545 - val_loss: 0.5592 - val_acc: 0.7990\n",
            "Epoch 19/50\n",
            "83/82 [==============================] - 9s 107ms/step - loss: 0.6852 - acc: 0.7581 - val_loss: 0.5573 - val_acc: 0.8007\n",
            "Epoch 20/50\n",
            "83/82 [==============================] - 9s 108ms/step - loss: 0.6858 - acc: 0.7544 - val_loss: 0.5552 - val_acc: 0.8008\n",
            "Epoch 21/50\n",
            "83/82 [==============================] - 9s 108ms/step - loss: 0.6821 - acc: 0.7579 - val_loss: 0.5531 - val_acc: 0.8017\n",
            "Epoch 22/50\n",
            "83/82 [==============================] - 9s 107ms/step - loss: 0.6807 - acc: 0.7566 - val_loss: 0.5512 - val_acc: 0.8018\n",
            "Epoch 23/50\n",
            "83/82 [==============================] - 9s 107ms/step - loss: 0.6734 - acc: 0.7604 - val_loss: 0.5491 - val_acc: 0.8028\n",
            "Epoch 24/50\n",
            "83/82 [==============================] - 9s 107ms/step - loss: 0.6755 - acc: 0.7627 - val_loss: 0.5474 - val_acc: 0.8034\n",
            "Epoch 25/50\n",
            "83/82 [==============================] - 9s 107ms/step - loss: 0.6759 - acc: 0.7598 - val_loss: 0.5460 - val_acc: 0.8057\n",
            "Epoch 26/50\n",
            "83/82 [==============================] - 9s 108ms/step - loss: 0.6722 - acc: 0.7637 - val_loss: 0.5432 - val_acc: 0.8054\n",
            "Epoch 27/50\n",
            "83/82 [==============================] - 9s 109ms/step - loss: 0.6663 - acc: 0.7622 - val_loss: 0.5431 - val_acc: 0.8048\n",
            "Epoch 28/50\n",
            "83/82 [==============================] - 9s 107ms/step - loss: 0.6666 - acc: 0.7617 - val_loss: 0.5413 - val_acc: 0.8064\n",
            "Epoch 29/50\n",
            "83/82 [==============================] - 9s 107ms/step - loss: 0.6589 - acc: 0.7641 - val_loss: 0.5394 - val_acc: 0.8062\n",
            "Epoch 30/50\n",
            "83/82 [==============================] - 9s 109ms/step - loss: 0.6616 - acc: 0.7657 - val_loss: 0.5391 - val_acc: 0.8068\n",
            "Epoch 31/50\n",
            "83/82 [==============================] - 9s 108ms/step - loss: 0.6587 - acc: 0.7640 - val_loss: 0.5380 - val_acc: 0.8069\n",
            "Epoch 32/50\n",
            "83/82 [==============================] - 9s 110ms/step - loss: 0.6594 - acc: 0.7655 - val_loss: 0.5358 - val_acc: 0.8085\n",
            "Epoch 33/50\n",
            "83/82 [==============================] - 9s 109ms/step - loss: 0.6591 - acc: 0.7670 - val_loss: 0.5356 - val_acc: 0.8075\n",
            "Epoch 34/50\n",
            "83/82 [==============================] - 9s 107ms/step - loss: 0.6557 - acc: 0.7658 - val_loss: 0.5333 - val_acc: 0.8097\n",
            "Epoch 35/50\n",
            "83/82 [==============================] - 9s 109ms/step - loss: 0.6565 - acc: 0.7671 - val_loss: 0.5337 - val_acc: 0.8084\n",
            "Epoch 36/50\n",
            "83/82 [==============================] - 9s 105ms/step - loss: 0.6487 - acc: 0.7723 - val_loss: 0.5325 - val_acc: 0.8098\n",
            "Epoch 37/50\n",
            "83/82 [==============================] - 9s 109ms/step - loss: 0.6547 - acc: 0.7692 - val_loss: 0.5310 - val_acc: 0.8088\n",
            "Epoch 38/50\n",
            "83/82 [==============================] - 9s 107ms/step - loss: 0.6544 - acc: 0.7675 - val_loss: 0.5299 - val_acc: 0.8104\n",
            "Epoch 39/50\n",
            "83/82 [==============================] - 9s 108ms/step - loss: 0.6482 - acc: 0.7711 - val_loss: 0.5304 - val_acc: 0.8098\n",
            "Epoch 40/50\n",
            "83/82 [==============================] - 9s 107ms/step - loss: 0.6508 - acc: 0.7699 - val_loss: 0.5286 - val_acc: 0.8107\n",
            "Epoch 41/50\n",
            "83/82 [==============================] - 9s 109ms/step - loss: 0.6499 - acc: 0.7680 - val_loss: 0.5279 - val_acc: 0.8109\n",
            "Epoch 42/50\n",
            "83/82 [==============================] - 9s 110ms/step - loss: 0.6464 - acc: 0.7728 - val_loss: 0.5272 - val_acc: 0.8116\n",
            "Epoch 43/50\n",
            "83/82 [==============================] - 9s 109ms/step - loss: 0.6533 - acc: 0.7660 - val_loss: 0.5262 - val_acc: 0.8123\n",
            "Epoch 44/50\n",
            "83/82 [==============================] - 9s 110ms/step - loss: 0.6496 - acc: 0.7684 - val_loss: 0.5253 - val_acc: 0.8129\n",
            "Epoch 45/50\n",
            "83/82 [==============================] - 9s 109ms/step - loss: 0.6479 - acc: 0.7688 - val_loss: 0.5239 - val_acc: 0.8133\n",
            "Epoch 46/50\n",
            "83/82 [==============================] - 9s 108ms/step - loss: 0.6394 - acc: 0.7743 - val_loss: 0.5244 - val_acc: 0.8127\n",
            "Epoch 47/50\n",
            "83/82 [==============================] - 9s 104ms/step - loss: 0.6487 - acc: 0.7712 - val_loss: 0.5237 - val_acc: 0.8133\n",
            "Epoch 48/50\n",
            "83/82 [==============================] - 9s 109ms/step - loss: 0.6389 - acc: 0.7751 - val_loss: 0.5224 - val_acc: 0.8139\n",
            "Epoch 49/50\n",
            "83/82 [==============================] - 9s 107ms/step - loss: 0.6448 - acc: 0.7713 - val_loss: 0.5228 - val_acc: 0.8142\n",
            "Epoch 50/50\n",
            "83/82 [==============================] - 9s 110ms/step - loss: 0.6476 - acc: 0.7684 - val_loss: 0.5222 - val_acc: 0.8133\n"
          ],
          "name": "stdout"
        },
        {
          "output_type": "execute_result",
          "data": {
            "text/plain": [
              "<tensorflow.python.keras.callbacks.History at 0x7fa13f66d470>"
            ]
          },
          "metadata": {
            "tags": []
          },
          "execution_count": 36
        }
      ]
    },
    {
      "metadata": {
        "id": "W3ZVOhugCaXA",
        "colab_type": "text"
      },
      "cell_type": "markdown",
      "source": [
        "As the model trains, the loss and accuracy metrics are displayed. This model reaches an accuracy of about 0.88 (or 88%) on the training data."
      ]
    },
    {
      "metadata": {
        "id": "oEw4bZgGCaXB",
        "colab_type": "text"
      },
      "cell_type": "markdown",
      "source": [
        "## Evaluate accuracy\n",
        "\n",
        "Next, compare how the model performs on the test dataset:"
      ]
    },
    {
      "metadata": {
        "id": "VflXLEeECaXC",
        "colab_type": "code",
        "outputId": "46634231-1b25-485f-b76f-50331b8e4f3f",
        "colab": {
          "base_uri": "https://localhost:8080/",
          "height": 51
        }
      },
      "cell_type": "code",
      "source": [
        "test_loss, test_acc = model.evaluate(test_images, test_labels)\n",
        "\n",
        "print('Test accuracy:', test_acc)"
      ],
      "execution_count": 37,
      "outputs": [
        {
          "output_type": "stream",
          "text": [
            "10000/10000 [==============================] - 1s 118us/step\n",
            "Test accuracy: 0.7993\n"
          ],
          "name": "stdout"
        }
      ]
    },
    {
      "metadata": {
        "id": "yWfgsmVXCaXG",
        "colab_type": "text"
      },
      "cell_type": "markdown",
      "source": [
        "It turns out, the accuracy on the test dataset is a little less than the accuracy on the training dataset. This gap between training accuracy and test accuracy is an example of *overfitting*. Overfitting is when a machine learning model performs worse on new data than on their training data. "
      ]
    },
    {
      "metadata": {
        "id": "xsoS7CPDCaXH",
        "colab_type": "text"
      },
      "cell_type": "markdown",
      "source": [
        "## Make predictions\n",
        "\n",
        "With the model trained, we can use it to make predictions about some images."
      ]
    },
    {
      "metadata": {
        "id": "Gl91RPhdCaXI",
        "colab_type": "code",
        "colab": {}
      },
      "cell_type": "code",
      "source": [
        "predictions = model.predict(test_images)"
      ],
      "execution_count": 0,
      "outputs": []
    },
    {
      "metadata": {
        "id": "x9Kk1voUCaXJ",
        "colab_type": "text"
      },
      "cell_type": "markdown",
      "source": [
        "Here, the model has predicted the label for each image in the testing set. Let's take a look at the first prediction:"
      ]
    },
    {
      "metadata": {
        "id": "3DmJEUinCaXK",
        "colab_type": "code",
        "outputId": "421194c7-dbdf-4cf1-f050-dabe4de8c229",
        "colab": {
          "base_uri": "https://localhost:8080/",
          "height": 68
        }
      },
      "cell_type": "code",
      "source": [
        "predictions[0]"
      ],
      "execution_count": 39,
      "outputs": [
        {
          "output_type": "execute_result",
          "data": {
            "text/plain": [
              "array([1.4189233e-04, 1.3507681e-04, 3.1326193e-04, 1.9802822e-04,\n",
              "       4.3566813e-04, 2.0126840e-01, 1.7186911e-04, 2.7798015e-01,\n",
              "       1.0668602e-02, 5.0868702e-01], dtype=float32)"
            ]
          },
          "metadata": {
            "tags": []
          },
          "execution_count": 39
        }
      ]
    },
    {
      "metadata": {
        "id": "-hw1hgeSCaXN",
        "colab_type": "text"
      },
      "cell_type": "markdown",
      "source": [
        "A prediction is an array of 10 numbers. These describe the \"confidence\" of the model that the image corresponds to each of the 10 different articles of clothing. We can see which label has the highest confidence value:"
      ]
    },
    {
      "metadata": {
        "id": "qsqenuPnCaXO",
        "colab_type": "code",
        "outputId": "e08c24d6-3ccf-4fb3-88da-9ec09a758b7f",
        "colab": {
          "base_uri": "https://localhost:8080/",
          "height": 34
        }
      },
      "cell_type": "code",
      "source": [
        "np.argmax(predictions[0])"
      ],
      "execution_count": 40,
      "outputs": [
        {
          "output_type": "execute_result",
          "data": {
            "text/plain": [
              "9"
            ]
          },
          "metadata": {
            "tags": []
          },
          "execution_count": 40
        }
      ]
    },
    {
      "metadata": {
        "id": "E51yS7iCCaXO",
        "colab_type": "text"
      },
      "cell_type": "markdown",
      "source": [
        "So the model is most confident that this image is an ankle boot, or `class_names[9]`. And we can check the test label to see this is correct:"
      ]
    },
    {
      "metadata": {
        "id": "Sd7Pgsu6CaXP",
        "colab_type": "code",
        "outputId": "4e42ed6a-f219-48a8-8778-a76072bd6499",
        "colab": {
          "base_uri": "https://localhost:8080/",
          "height": 34
        }
      },
      "cell_type": "code",
      "source": [
        "test_labels[0]"
      ],
      "execution_count": 41,
      "outputs": [
        {
          "output_type": "execute_result",
          "data": {
            "text/plain": [
              "9"
            ]
          },
          "metadata": {
            "tags": []
          },
          "execution_count": 41
        }
      ]
    },
    {
      "metadata": {
        "id": "ygh2yYC972ne",
        "colab_type": "text"
      },
      "cell_type": "markdown",
      "source": [
        "We can graph this to look at the full set of 10 channels"
      ]
    },
    {
      "metadata": {
        "id": "DvYmmrpIy6Y1",
        "colab_type": "code",
        "colab": {}
      },
      "cell_type": "code",
      "source": [
        "def plot_image(i, predictions_array, true_label, img):\n",
        "  predictions_array, true_label, img = predictions_array[i], true_label[i], img[i]\n",
        "  plt.grid(False)\n",
        "  plt.xticks([])\n",
        "  plt.yticks([])\n",
        "  \n",
        "  plt.imshow(img, cmap=plt.cm.binary)\n",
        "\n",
        "  predicted_label = np.argmax(predictions_array)\n",
        "  if predicted_label == true_label:\n",
        "    color = 'blue'\n",
        "  else:\n",
        "    color = 'red'\n",
        "  \n",
        "  plt.xlabel(\"{} {:2.0f}% ({})\".format(class_names[predicted_label],\n",
        "                                100*np.max(predictions_array),\n",
        "                                class_names[true_label]),\n",
        "                                color=color)\n",
        "\n",
        "def plot_value_array(i, predictions_array, true_label):\n",
        "  predictions_array, true_label = predictions_array[i], true_label[i]\n",
        "  plt.grid(False)\n",
        "  plt.xticks([])\n",
        "  plt.yticks([])\n",
        "  thisplot = plt.bar(range(10), predictions_array, color=\"#777777\")\n",
        "  plt.ylim([0, 1]) \n",
        "  predicted_label = np.argmax(predictions_array)\n",
        " \n",
        "  thisplot[predicted_label].set_color('red')\n",
        "  thisplot[true_label].set_color('blue')"
      ],
      "execution_count": 0,
      "outputs": []
    },
    {
      "metadata": {
        "id": "d4Ov9OFDMmOD",
        "colab_type": "text"
      },
      "cell_type": "markdown",
      "source": [
        "Let's look at the 0th image, predictions, and prediction array. "
      ]
    },
    {
      "metadata": {
        "id": "kgdvGD52CaXR",
        "colab_type": "text"
      },
      "cell_type": "markdown",
      "source": [
        "Let's plot several images with their predictions. Correct prediction labels are blue and incorrect prediction labels are red. The number gives the percent (out of 100) for the predicted label. Note that it can be wrong even when very confident. "
      ]
    },
    {
      "metadata": {
        "id": "hQlnbqaw2Qu_",
        "colab_type": "code",
        "outputId": "25918bee-10a2-4e38-a072-08667c6a17ba",
        "colab": {
          "base_uri": "https://localhost:8080/",
          "height": 589
        }
      },
      "cell_type": "code",
      "source": [
        "train_images = train_images.reshape(train_images.shape[0], train_images.shape[1], train_images.shape[2])\n",
        "test_images = test_images.reshape(test_images.shape[0], test_images.shape[1], test_images.shape[2])\n",
        "\n",
        "# Plot the first X test images, their predicted label, and the true label\n",
        "# Color correct predictions in blue, incorrect predictions in red\n",
        "num_rows = 5\n",
        "num_cols = 3\n",
        "num_images = num_rows*num_cols\n",
        "plt.figure(figsize=(2*2*num_cols, 2*num_rows))\n",
        "for i in range(num_images):\n",
        "  plt.subplot(num_rows, 2*num_cols, 2*i+1)\n",
        "  plot_image(i, predictions, test_labels, test_images)\n",
        "  plt.subplot(num_rows, 2*num_cols, 2*i+2)\n",
        "  plot_value_array(i, predictions, test_labels)\n"
      ],
      "execution_count": 43,
      "outputs": [
        {
          "output_type": "display_data",
          "data": {
            "image/png": "[encoded data removed]",
            "text/plain": [
              "<matplotlib.figure.Figure at 0x7fa0f1ced6a0>"
            ]
          },
          "metadata": {
            "tags": []
          }
        }
      ]
    },
    {
      "metadata": {
        "id": "TP5sH1IxyMdb",
        "colab_type": "text"
      },
      "cell_type": "markdown",
      "source": [
        "##**Test  And Training Times And Accuracies**\n",
        "\n",
        "\n",
        "* **Training Time: **  60 s in total\n",
        "\n",
        "* **Test Time: ** 1.1 s\n",
        "\n",
        "* **Training Accuracy:** 0.8828\n",
        "\n",
        "* **Test Accuracy: ** 0.8699"
      ]
    }
  ]
}